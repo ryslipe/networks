{
 "cells": [
  {
   "cell_type": "markdown",
   "id": "0e52b31f-5726-401a-94ea-08c404224927",
   "metadata": {},
   "source": [
    "## Social Network Analysis of Financial Ties\n",
    "### Ryan Slipe\n",
    "### Chintan Thikkar\n",
    "### DSC-750\n",
    "### 3/26/2024"
   ]
  },
  {
   "cell_type": "markdown",
   "id": "f88fb912-852d-4b44-94e6-ef0b8c659515",
   "metadata": {},
   "source": [
    "For this project, we will be analyzing the financial ties between 20 companies. The companies are real but the ties are made up for the purposes of this assignment. We will be covering network metrics such as:\n",
    "+ egocentric graphs\n",
    "+ density of egocentric graphs\n",
    "+ centrality\n",
    "+ betweenness centrality\n",
    "+ closeness centrality\n",
    "+ prestige"
   ]
  },
  {
   "cell_type": "markdown",
   "id": "9891e0fb-2c03-4b9b-a24d-0c8ba70d68b4",
   "metadata": {},
   "source": [
    "These metrics will tell us more about the network such as who the most important companies are, and if there are any underlying alliances. "
   ]
  },
  {
   "cell_type": "markdown",
   "id": "0faa4ae6-2218-49d0-b7e2-251769d0604a",
   "metadata": {},
   "source": [
    "### Components of a Network"
   ]
  },
  {
   "cell_type": "markdown",
   "id": "d00c63ac-df21-4cdf-8038-dd0e9448913f",
   "metadata": {},
   "source": [
    "Before we get in to the analysis there are some aspects that we should describe that help us understand the underlying componenets of a network. The two main parts of a network are the **actors** and the **edges**. The actors (or nodes) in our example will be the companies. We have 10 companies in this network. One company is Spotify, which is an actor, or node, in our network. Edges are the ties or connections between the actors. These connections can be directed or undirected. In a directed network the connection may not be mutual. These connections are called arcs instead of edges. It may be the case that I am friends with Mike, but Mike is not friends with me. For the sake of this project the connections will be undirected so we will be working with edges. "
   ]
  },
  {
   "cell_type": "code",
   "execution_count": 1,
   "id": "a9aa0be9",
   "metadata": {
    "tags": []
   },
   "outputs": [],
   "source": [
    "import pandas as pd\n",
    "import numpy as np"
   ]
  },
  {
   "cell_type": "code",
   "execution_count": 2,
   "id": "d2b77354-05ed-4e08-97d0-086558c5758b",
   "metadata": {
    "tags": []
   },
   "outputs": [],
   "source": [
    "import networkx as nx"
   ]
  },
  {
   "cell_type": "code",
   "execution_count": 3,
   "id": "5c53175c",
   "metadata": {
    "tags": []
   },
   "outputs": [],
   "source": [
    "df = pd.read_csv(\"C:/Users/ryans/Documents/GCU_data_mining/finacial_ties.csv\")"
   ]
  },
  {
   "cell_type": "code",
   "execution_count": 4,
   "id": "12c477ff",
   "metadata": {
    "tags": []
   },
   "outputs": [],
   "source": [
    "df.set_index('Unnamed: 0', inplace = True)"
   ]
  },
  {
   "cell_type": "markdown",
   "id": "1deee7fe-23a0-4e50-8eb3-92cc74e2f4a8",
   "metadata": {},
   "source": [
    "### Initial Descriptive Statistics"
   ]
  },
  {
   "cell_type": "markdown",
   "id": "7db9c7ce-02ce-458a-9bab-b6733b91f663",
   "metadata": {},
   "source": [
    "We can look at our matrix to see if there is any alliance that may be forming. Based on the connections we see that American Express has many other companies tied to them. We also see that Samsung has many of the same connections that American Express has. Another important player appears to be Cosco. This would make sense intuitively since they sell many products that the other companies create."
   ]
  },
  {
   "cell_type": "code",
   "execution_count": 5,
   "id": "d63876a0-73c3-4324-997b-6398af436268",
   "metadata": {
    "tags": []
   },
   "outputs": [
    {
     "data": {
      "text/html": [
       "<div>\n",
       "<style scoped>\n",
       "    .dataframe tbody tr th:only-of-type {\n",
       "        vertical-align: middle;\n",
       "    }\n",
       "\n",
       "    .dataframe tbody tr th {\n",
       "        vertical-align: top;\n",
       "    }\n",
       "\n",
       "    .dataframe thead th {\n",
       "        text-align: right;\n",
       "    }\n",
       "</style>\n",
       "<table border=\"1\" class=\"dataframe\">\n",
       "  <thead>\n",
       "    <tr style=\"text-align: right;\">\n",
       "      <th></th>\n",
       "      <th>Spotify</th>\n",
       "      <th>NBA</th>\n",
       "      <th>HP</th>\n",
       "      <th>Norfolk Southern</th>\n",
       "      <th>Cosco</th>\n",
       "      <th>AAA</th>\n",
       "      <th>Greyhound</th>\n",
       "      <th>Johnson &amp; Johnson</th>\n",
       "      <th>Samsung</th>\n",
       "      <th>American Express</th>\n",
       "    </tr>\n",
       "    <tr>\n",
       "      <th>Unnamed: 0</th>\n",
       "      <th></th>\n",
       "      <th></th>\n",
       "      <th></th>\n",
       "      <th></th>\n",
       "      <th></th>\n",
       "      <th></th>\n",
       "      <th></th>\n",
       "      <th></th>\n",
       "      <th></th>\n",
       "      <th></th>\n",
       "    </tr>\n",
       "  </thead>\n",
       "  <tbody>\n",
       "    <tr>\n",
       "      <th>Spotify</th>\n",
       "      <td>0</td>\n",
       "      <td>1</td>\n",
       "      <td>1</td>\n",
       "      <td>0</td>\n",
       "      <td>0</td>\n",
       "      <td>0</td>\n",
       "      <td>0</td>\n",
       "      <td>0</td>\n",
       "      <td>1</td>\n",
       "      <td>1</td>\n",
       "    </tr>\n",
       "    <tr>\n",
       "      <th>NBA</th>\n",
       "      <td>1</td>\n",
       "      <td>0</td>\n",
       "      <td>0</td>\n",
       "      <td>0</td>\n",
       "      <td>0</td>\n",
       "      <td>0</td>\n",
       "      <td>0</td>\n",
       "      <td>0</td>\n",
       "      <td>1</td>\n",
       "      <td>1</td>\n",
       "    </tr>\n",
       "    <tr>\n",
       "      <th>HP</th>\n",
       "      <td>0</td>\n",
       "      <td>1</td>\n",
       "      <td>0</td>\n",
       "      <td>0</td>\n",
       "      <td>1</td>\n",
       "      <td>0</td>\n",
       "      <td>0</td>\n",
       "      <td>1</td>\n",
       "      <td>0</td>\n",
       "      <td>0</td>\n",
       "    </tr>\n",
       "    <tr>\n",
       "      <th>Norfolk Southern</th>\n",
       "      <td>0</td>\n",
       "      <td>0</td>\n",
       "      <td>0</td>\n",
       "      <td>0</td>\n",
       "      <td>1</td>\n",
       "      <td>1</td>\n",
       "      <td>0</td>\n",
       "      <td>0</td>\n",
       "      <td>0</td>\n",
       "      <td>0</td>\n",
       "    </tr>\n",
       "    <tr>\n",
       "      <th>Cosco</th>\n",
       "      <td>0</td>\n",
       "      <td>0</td>\n",
       "      <td>1</td>\n",
       "      <td>1</td>\n",
       "      <td>0</td>\n",
       "      <td>0</td>\n",
       "      <td>0</td>\n",
       "      <td>1</td>\n",
       "      <td>1</td>\n",
       "      <td>1</td>\n",
       "    </tr>\n",
       "    <tr>\n",
       "      <th>AAA</th>\n",
       "      <td>0</td>\n",
       "      <td>0</td>\n",
       "      <td>0</td>\n",
       "      <td>0</td>\n",
       "      <td>0</td>\n",
       "      <td>0</td>\n",
       "      <td>1</td>\n",
       "      <td>0</td>\n",
       "      <td>0</td>\n",
       "      <td>0</td>\n",
       "    </tr>\n",
       "    <tr>\n",
       "      <th>Greyhound</th>\n",
       "      <td>0</td>\n",
       "      <td>1</td>\n",
       "      <td>0</td>\n",
       "      <td>1</td>\n",
       "      <td>0</td>\n",
       "      <td>1</td>\n",
       "      <td>0</td>\n",
       "      <td>0</td>\n",
       "      <td>0</td>\n",
       "      <td>0</td>\n",
       "    </tr>\n",
       "    <tr>\n",
       "      <th>Johnson &amp; Johnson</th>\n",
       "      <td>0</td>\n",
       "      <td>0</td>\n",
       "      <td>0</td>\n",
       "      <td>0</td>\n",
       "      <td>1</td>\n",
       "      <td>0</td>\n",
       "      <td>0</td>\n",
       "      <td>0</td>\n",
       "      <td>0</td>\n",
       "      <td>1</td>\n",
       "    </tr>\n",
       "    <tr>\n",
       "      <th>Samsung</th>\n",
       "      <td>1</td>\n",
       "      <td>1</td>\n",
       "      <td>0</td>\n",
       "      <td>1</td>\n",
       "      <td>1</td>\n",
       "      <td>0</td>\n",
       "      <td>0</td>\n",
       "      <td>0</td>\n",
       "      <td>0</td>\n",
       "      <td>1</td>\n",
       "    </tr>\n",
       "    <tr>\n",
       "      <th>American Express</th>\n",
       "      <td>1</td>\n",
       "      <td>1</td>\n",
       "      <td>0</td>\n",
       "      <td>1</td>\n",
       "      <td>1</td>\n",
       "      <td>0</td>\n",
       "      <td>0</td>\n",
       "      <td>1</td>\n",
       "      <td>1</td>\n",
       "      <td>0</td>\n",
       "    </tr>\n",
       "  </tbody>\n",
       "</table>\n",
       "</div>"
      ],
      "text/plain": [
       "                   Spotify  NBA  HP  Norfolk Southern  Cosco  AAA  Greyhound  \\\n",
       "Unnamed: 0                                                                     \n",
       "Spotify                  0    1   1                 0      0    0          0   \n",
       "NBA                      1    0   0                 0      0    0          0   \n",
       "HP                       0    1   0                 0      1    0          0   \n",
       "Norfolk Southern         0    0   0                 0      1    1          0   \n",
       "Cosco                    0    0   1                 1      0    0          0   \n",
       "AAA                      0    0   0                 0      0    0          1   \n",
       "Greyhound                0    1   0                 1      0    1          0   \n",
       "Johnson & Johnson        0    0   0                 0      1    0          0   \n",
       "Samsung                  1    1   0                 1      1    0          0   \n",
       "American Express         1    1   0                 1      1    0          0   \n",
       "\n",
       "                   Johnson & Johnson  Samsung  American Express  \n",
       "Unnamed: 0                                                       \n",
       "Spotify                            0        1                 1  \n",
       "NBA                                0        1                 1  \n",
       "HP                                 1        0                 0  \n",
       "Norfolk Southern                   0        0                 0  \n",
       "Cosco                              1        1                 1  \n",
       "AAA                                0        0                 0  \n",
       "Greyhound                          0        0                 0  \n",
       "Johnson & Johnson                  0        0                 1  \n",
       "Samsung                            0        0                 1  \n",
       "American Express                   1        1                 0  "
      ]
     },
     "execution_count": 5,
     "metadata": {},
     "output_type": "execute_result"
    }
   ],
   "source": [
    "df"
   ]
  },
  {
   "cell_type": "markdown",
   "id": "6fa7589a-c44f-445d-af9c-026569f7dd09",
   "metadata": {},
   "source": [
    "First, we will get our data frame into the correct format to be transformed into a graph using networkx."
   ]
  },
  {
   "cell_type": "code",
   "execution_count": 6,
   "id": "33d94119-86bc-4f77-9407-5a7c8c0d40d2",
   "metadata": {
    "tags": []
   },
   "outputs": [
    {
     "data": {
      "text/plain": [
       "Index(['Spotify', 'NBA', 'HP', 'Norfolk Southern', 'Cosco', 'AAA', 'Greyhound',\n",
       "       'Johnson & Johnson', 'Samsung', 'American Express'],\n",
       "      dtype='object')"
      ]
     },
     "execution_count": 6,
     "metadata": {},
     "output_type": "execute_result"
    }
   ],
   "source": [
    "# view columns that will be our nodes\n",
    "df.columns"
   ]
  },
  {
   "cell_type": "code",
   "execution_count": 7,
   "id": "1296be5f-1c1a-47f5-be8f-035553932f3b",
   "metadata": {
    "tags": []
   },
   "outputs": [],
   "source": [
    "# transform to an array\n",
    "array = np.array(df)"
   ]
  },
  {
   "cell_type": "code",
   "execution_count": 8,
   "id": "36adaeaa-42fa-4488-9280-bb624175f8fb",
   "metadata": {
    "tags": []
   },
   "outputs": [
    {
     "data": {
      "text/plain": [
       "(10, 10)"
      ]
     },
     "execution_count": 8,
     "metadata": {},
     "output_type": "execute_result"
    }
   ],
   "source": [
    "array.shape"
   ]
  },
  {
   "cell_type": "code",
   "execution_count": 9,
   "id": "7ca8f73e-6a28-49ed-9398-bbb755f6ab64",
   "metadata": {
    "tags": []
   },
   "outputs": [],
   "source": [
    "# create a graph of our network\n",
    "G = nx.Graph(array)"
   ]
  },
  {
   "cell_type": "code",
   "execution_count": 10,
   "id": "04f16ecd-9610-4904-8560-c2ba77c2d76f",
   "metadata": {
    "tags": []
   },
   "outputs": [
    {
     "name": "stdout",
     "output_type": "stream",
     "text": [
      "Graph with 10 nodes and 21 edges\n"
     ]
    }
   ],
   "source": [
    "# how many nodes and edges\n",
    "print(G)"
   ]
  },
  {
   "cell_type": "code",
   "execution_count": 11,
   "id": "33a7c950-76db-44c3-a121-3ca3c8b4a4f8",
   "metadata": {
    "tags": []
   },
   "outputs": [
    {
     "name": "stdout",
     "output_type": "stream",
     "text": [
      "The nodes for our network are as follows:\n",
      "0 Spotify\n",
      "1 NBA\n",
      "2 HP\n",
      "3 Norfolk Southern\n",
      "4 Cosco\n",
      "5 AAA\n",
      "6 Greyhound\n",
      "7 Johnson & Johnson\n",
      "8 Samsung\n",
      "9 American Express\n"
     ]
    }
   ],
   "source": [
    "# number corresponding to each node\n",
    "print('The nodes for our network are as follows:')\n",
    "for count, column in enumerate(df.columns):\n",
    "    print(count, column)"
   ]
  },
  {
   "cell_type": "code",
   "execution_count": 12,
   "id": "3f707c75-dfa6-4504-b33f-da0e76d6863b",
   "metadata": {
    "tags": []
   },
   "outputs": [],
   "source": [
    "# graph\n",
    "import matplotlib.pyplot as plt"
   ]
  },
  {
   "cell_type": "markdown",
   "id": "d8d94660-5c40-4262-acf0-3979ad655996",
   "metadata": {},
   "source": [
    "Now we will visualize our graph and use list comprehension to label each node corresponding to their number. To access the nodes in our network we use **.nodes()**."
   ]
  },
  {
   "cell_type": "code",
   "execution_count": 13,
   "id": "79dd01db-5607-4fe2-a10f-fd54b7228c84",
   "metadata": {
    "tags": []
   },
   "outputs": [
    {
     "data": {
      "text/plain": [
       "NodeView((0, 1, 2, 3, 4, 5, 6, 7, 8, 9))"
      ]
     },
     "execution_count": 13,
     "metadata": {},
     "output_type": "execute_result"
    }
   ],
   "source": [
    "# nodes in our network\n",
    "G.nodes()"
   ]
  },
  {
   "cell_type": "code",
   "execution_count": 14,
   "id": "319b133b-0aa8-4c0b-9d6c-aa62c980f9fd",
   "metadata": {
    "tags": []
   },
   "outputs": [
    {
     "data": {
      "text/plain": [
       "EdgeView([(0, 1), (0, 2), (0, 8), (0, 9), (1, 8), (1, 9), (1, 2), (1, 6), (2, 4), (2, 7), (3, 4), (3, 5), (3, 6), (3, 8), (3, 9), (4, 7), (4, 8), (4, 9), (5, 6), (7, 9), (8, 9)])"
      ]
     },
     "execution_count": 14,
     "metadata": {},
     "output_type": "execute_result"
    }
   ],
   "source": [
    "# edges in our network\n",
    "G.edges()"
   ]
  },
  {
   "cell_type": "code",
   "execution_count": 43,
   "id": "3af57b59-1d01-4611-aa7c-d4b8e707c1c9",
   "metadata": {
    "tags": []
   },
   "outputs": [
    {
     "data": {
      "image/png": "[encoded data removed]",
      "text/plain": [
       "<Figure size 640x480 with 1 Axes>"
      ]
     },
     "metadata": {},
     "output_type": "display_data"
    }
   ],
   "source": [
    "# default spring_layout\n",
    "np.random.seed(42)\n",
    "nx.draw(G, node_color='r', edge_color='b', labels={node: node for node in G.nodes()})"
   ]
  },
  {
   "cell_type": "code",
   "execution_count": 44,
   "id": "0c0e29c9-26a0-42eb-9c7a-587a0f61fd79",
   "metadata": {
    "tags": []
   },
   "outputs": [],
   "source": [
    "adj_matrix = nx.adjacency_matrix(G).todense()"
   ]
  },
  {
   "cell_type": "code",
   "execution_count": 45,
   "id": "5b8ce106-5c6d-4594-ac07-6528c9c612a2",
   "metadata": {
    "tags": []
   },
   "outputs": [
    {
     "data": {
      "text/plain": [
       "array([[0, 1, 1, 0, 0, 0, 0, 0, 1, 1],\n",
       "       [1, 0, 1, 0, 0, 0, 1, 0, 1, 1],\n",
       "       [1, 1, 0, 0, 1, 0, 0, 1, 0, 0],\n",
       "       [0, 0, 0, 0, 1, 1, 1, 0, 1, 1],\n",
       "       [0, 0, 1, 1, 0, 0, 0, 1, 1, 1],\n",
       "       [0, 0, 0, 1, 0, 0, 1, 0, 0, 0],\n",
       "       [0, 1, 0, 1, 0, 1, 0, 0, 0, 0],\n",
       "       [0, 0, 1, 0, 1, 0, 0, 0, 0, 1],\n",
       "       [1, 1, 0, 1, 1, 0, 0, 0, 0, 1],\n",
       "       [1, 1, 0, 1, 1, 0, 0, 1, 1, 0]], dtype=int32)"
      ]
     },
     "execution_count": 45,
     "metadata": {},
     "output_type": "execute_result"
    }
   ],
   "source": [
    "adj_matrix"
   ]
  },
  {
   "cell_type": "code",
   "execution_count": 46,
   "id": "a9c28b03-1653-4fc3-8d33-fdd5538f8101",
   "metadata": {
    "tags": []
   },
   "outputs": [
    {
     "name": "stdout",
     "output_type": "stream",
     "text": [
      "Graph with 10 nodes and 21 edges\n"
     ]
    }
   ],
   "source": [
    "print(G)"
   ]
  },
  {
   "cell_type": "code",
   "execution_count": 47,
   "id": "0ff606a0-3aa6-4c65-84b9-8f1995249c0e",
   "metadata": {
    "tags": []
   },
   "outputs": [],
   "source": [
    "edge_list = list(G.edges)"
   ]
  },
  {
   "cell_type": "code",
   "execution_count": 48,
   "id": "bdc68fe0-f585-4770-b927-e71ac984c7c8",
   "metadata": {
    "tags": []
   },
   "outputs": [
    {
     "data": {
      "text/plain": [
       "[(0, 1),\n",
       " (0, 2),\n",
       " (0, 8),\n",
       " (0, 9),\n",
       " (1, 8),\n",
       " (1, 9),\n",
       " (1, 2),\n",
       " (1, 6),\n",
       " (2, 4),\n",
       " (2, 7),\n",
       " (3, 4),\n",
       " (3, 5),\n",
       " (3, 6),\n",
       " (3, 8),\n",
       " (3, 9),\n",
       " (4, 7),\n",
       " (4, 8),\n",
       " (4, 9),\n",
       " (5, 6),\n",
       " (7, 9),\n",
       " (8, 9)]"
      ]
     },
     "execution_count": 48,
     "metadata": {},
     "output_type": "execute_result"
    }
   ],
   "source": [
    "edge_list"
   ]
  },
  {
   "cell_type": "markdown",
   "id": "1a4c92fa-c501-48ca-854f-219b51cc71c4",
   "metadata": {},
   "source": [
    "### Our Potential Allies"
   ]
  },
  {
   "cell_type": "markdown",
   "id": "64d0e3b7-5817-4a63-a289-b869b3714927",
   "metadata": {},
   "source": [
    "Since nodes 8 (Samsung) and 9 (American Express) have similar financial ties, there is potential for an alliance there. We can focus on these two companies by examining their **egocentric graphs**. By doing so, we will be looking at the ties and neighbors of those specific nodes. The graphs are smaller in size since they only focus on those connections. We can also see a pretty clear **clique**, or **cluster** being formed. A cluster is a tendency of nodes to be more connected with eachother than the rest of the network. "
   ]
  },
  {
   "cell_type": "code",
   "execution_count": 49,
   "id": "1373bb8a-1b2a-4fcf-af84-f7a644e84963",
   "metadata": {
    "tags": []
   },
   "outputs": [],
   "source": [
    "# egocentric graph of node 8 - Samsung\n",
    "np.random.seed(42)\n",
    "samsung_graph = nx.ego_graph(G, 8)"
   ]
  },
  {
   "cell_type": "code",
   "execution_count": 50,
   "id": "da844b00-3d48-4cc6-9d29-96377f789d33",
   "metadata": {
    "tags": []
   },
   "outputs": [
    {
     "data": {
      "image/png": "[encoded data removed]",
      "text/plain": [
       "<Figure size 640x480 with 1 Axes>"
      ]
     },
     "metadata": {},
     "output_type": "display_data"
    }
   ],
   "source": [
    "# egocentric graph of Samsung\n",
    "nx.draw(samsung_graph, node_color='r', edge_color='b', labels={node: node for node in samsung_graph.nodes()})"
   ]
  },
  {
   "cell_type": "code",
   "execution_count": 51,
   "id": "893d6a51-c1c5-40ff-8773-e9f0cdd42692",
   "metadata": {
    "tags": []
   },
   "outputs": [],
   "source": [
    "# egocentric graph of node 9 - American Express\n",
    "american_graph = nx.ego_graph(G, 9)"
   ]
  },
  {
   "cell_type": "code",
   "execution_count": 53,
   "id": "f46728fd-a2fc-40a7-8a85-5e4b02e63721",
   "metadata": {
    "tags": []
   },
   "outputs": [
    {
     "data": {
      "image/png": "[encoded data removed]",
      "text/plain": [
       "<Figure size 640x480 with 1 Axes>"
      ]
     },
     "metadata": {},
     "output_type": "display_data"
    }
   ],
   "source": [
    "# egocentric graph of American Express\n",
    "np.random.seed(42)\n",
    "nx.draw(american_graph, node_color='r', edge_color='b', labels={node: node for node in american_graph.nodes()})"
   ]
  },
  {
   "cell_type": "markdown",
   "id": "412717a2-5f10-47ee-9898-64513f3d65e6",
   "metadata": {},
   "source": [
    "Although this network is very small with only 10 actors, the point is to illustrate phenomena that may occur in larger graphs. As we can see these graphs are very similar which coincides with our assumption that they are allies. The only difference that we see in this graph is that American Express has a direct tie to node 7 (Johnson & Johnson). This means these two companies have extremely similar ties which can be thought of as the old nursery ryhme, \"your friends are my friends and my friends are your friends.\" "
   ]
  },
  {
   "cell_type": "markdown",
   "id": "4a4340e6-3a74-4a44-a99c-d461e065c1ad",
   "metadata": {},
   "source": [
    "#### Density"
   ]
  },
  {
   "cell_type": "markdown",
   "id": "22a97f58-b031-42ed-878a-25a53dbe40a8",
   "metadata": {},
   "source": [
    "The density of a network, or in this case an egocentric network, tells us how well the nodes are connected to each other. This is calculated by dividing the number of edges by the number of total possible edges. This value ranges between 0 and 1. A complete graph where each node is connected to every other node will have a density of 1. In the egocentric graphs above we see that the density of the Samsung graph will be slightly higher than the density of the American Express graph since the American Express graph is adding one extra node that only has two edges. The density of both geocentric networks are fairly high and this could tell us that information within both of these networks travels efficiently since they have high density. In a low density network the information will have to be passed from one node to another but with these nodes being connected to eachother the information travels well. For example, in the American Express egocentric graph, we can say that node 7 can pass information to node 9 and node 4. Both of these nodes are well connected with the rest of the graph so information will be passed quickly and efficiently."
   ]
  },
  {
   "cell_type": "code",
   "execution_count": 244,
   "id": "6d5177a9-574a-4c59-886f-d484876b236b",
   "metadata": {
    "tags": []
   },
   "outputs": [
    {
     "data": {
      "text/plain": [
       "0.7333333333333333"
      ]
     },
     "execution_count": 244,
     "metadata": {},
     "output_type": "execute_result"
    }
   ],
   "source": [
    "# samsung density\n",
    "nx.density(samsung_graph)"
   ]
  },
  {
   "cell_type": "code",
   "execution_count": 245,
   "id": "ce6927bf-c5d8-4c8d-a739-7662ab78ecfe",
   "metadata": {
    "tags": []
   },
   "outputs": [
    {
     "data": {
      "text/plain": [
       "0.6190476190476191"
      ]
     },
     "execution_count": 245,
     "metadata": {},
     "output_type": "execute_result"
    }
   ],
   "source": [
    "# american express density\n",
    "nx.density(american_graph)"
   ]
  },
  {
   "cell_type": "markdown",
   "id": "8cb0d400-0a9e-4a10-b9be-8a67da4fcd9f",
   "metadata": {},
   "source": [
    "#### Degree of a Node"
   ]
  },
  {
   "cell_type": "markdown",
   "id": "3b4e178a-8d24-433c-9db3-57b6914e023a",
   "metadata": {},
   "source": [
    "When we discussed the density of the geocentric graphs we were looking at the edges for each node. The number of edges a node has is called the **degree** of a node. In a directed graph, a node has in-degree and out-degree which is calculated by the number of edges coming in and going out respectively. Since we are dealing with financial ties we can say that the connections are mutual so we just have degree as a whole. A node with a higher degree has more connections which can tell us how important they are in a network."
   ]
  },
  {
   "cell_type": "code",
   "execution_count": 55,
   "id": "c0d55798-fc4c-412b-a008-20972027b369",
   "metadata": {
    "tags": []
   },
   "outputs": [],
   "source": [
    "# degree of graph G\n",
    "gdeg = nx.degree(G)"
   ]
  },
  {
   "cell_type": "code",
   "execution_count": 56,
   "id": "3b8dfc19-7e08-408a-8ef8-ceaea6780801",
   "metadata": {
    "tags": []
   },
   "outputs": [
    {
     "data": {
      "text/plain": [
       "DegreeView({0: 4, 1: 5, 2: 4, 3: 5, 4: 5, 5: 2, 6: 3, 7: 3, 8: 5, 9: 6})"
      ]
     },
     "execution_count": 56,
     "metadata": {},
     "output_type": "execute_result"
    }
   ],
   "source": [
    "# degree for each node\n",
    "gdeg"
   ]
  },
  {
   "cell_type": "code",
   "execution_count": 66,
   "id": "3812e3ae-eb46-43a1-9ed0-aeab39fc5357",
   "metadata": {
    "tags": []
   },
   "outputs": [
    {
     "name": "stdout",
     "output_type": "stream",
     "text": [
      "Node: 0 - Degree: 4\n",
      "Node: 1 - Degree: 5\n",
      "Node: 2 - Degree: 4\n",
      "Node: 3 - Degree: 5\n",
      "Node: 4 - Degree: 5\n",
      "Node: 5 - Degree: 2\n",
      "Node: 6 - Degree: 3\n",
      "Node: 7 - Degree: 3\n",
      "Node: 8 - Degree: 5\n",
      "Node: 9 - Degree: 6\n"
     ]
    }
   ],
   "source": [
    "# degree for each node - node 9 (American Express) has the highest degree\n",
    "for node, degree in gdeg:\n",
    "    print(f'Node: {node} - Degree: {degree}')"
   ]
  },
  {
   "cell_type": "markdown",
   "id": "cc069a24-0804-4574-b253-041925e93c3c",
   "metadata": {},
   "source": [
    "We can visualize our graph in a different way that represents the nodes with a higher degree depicted as larger circles. For our small network we do not gain too much information since many of the nodes have the same degree but we can still see that node 9 is the largest and node 5 is the smallest. As a reminder, node 5 is AAA."
   ]
  },
  {
   "cell_type": "code",
   "execution_count": 89,
   "id": "6d95890b-f0ac-44e2-a395-962d65928610",
   "metadata": {
    "tags": []
   },
   "outputs": [
    {
     "data": {
      "image/png": "[encoded data removed]",
      "text/plain": [
       "<Figure size 640x480 with 1 Axes>"
      ]
     },
     "metadata": {},
     "output_type": "display_data"
    }
   ],
   "source": [
    "# default spring_layout\n",
    "np.random.seed(42)\n",
    "nx.draw(G, node_color='r', edge_color='b', \n",
    "        node_size = [300*value for (node, value) in gdeg],\n",
    "                     labels={node: node for node in G.nodes()})"
   ]
  },
  {
   "cell_type": "markdown",
   "id": "f2863a82-b256-4adc-b8ec-be14e9d530a8",
   "metadata": {},
   "source": [
    "#### Centrality"
   ]
  },
  {
   "cell_type": "markdown",
   "id": "13d3cf3c-4d0e-4edc-a03e-198a9a4d404c",
   "metadata": {},
   "source": [
    "Our next measure will be centrality. Degree centality tells us how important a node is in the network. When thinking intuitively about a network we can say that important nodes will have more connections. For example, in our network we think American Express will be an important node due to the ties it has with other companies across many industries. With that being said, we would assume that AAA is not an extremely important player in this network with the other companies involved. Degree centrality will give us a quantitative measure for this importance. The degree centrality is calculated by dividing the degree of a node by the total number of nodes in the network.\n",
    "\n",
    "The two actors that we have chosen to examine are Samsung and American Express. Now we can calculate their degree centrality. We see that American Express has a higher degree centrality which is not surprising to us since we saw in the egocentric graph that they were extremely similar but American Express had one more connection than Samsung had. "
   ]
  },
  {
   "cell_type": "code",
   "execution_count": 256,
   "id": "b357bc16-197c-4915-80d5-369b2b5bc143",
   "metadata": {
    "tags": []
   },
   "outputs": [],
   "source": [
    "# samsung degree centrality - node 8 \n",
    "deg_cent = nx.degree_centrality(G)"
   ]
  },
  {
   "cell_type": "code",
   "execution_count": 257,
   "id": "b6ec2167-4ea2-40df-a32d-abf45d8868b1",
   "metadata": {
    "tags": []
   },
   "outputs": [
    {
     "data": {
      "text/plain": [
       "0.5555555555555556"
      ]
     },
     "execution_count": 257,
     "metadata": {},
     "output_type": "execute_result"
    }
   ],
   "source": [
    "# degree centrality of Samsung\n",
    "deg_cent[8]"
   ]
  },
  {
   "cell_type": "code",
   "execution_count": 259,
   "id": "d47485fc-0745-45cd-872b-a0b6d55e5206",
   "metadata": {
    "tags": []
   },
   "outputs": [
    {
     "data": {
      "text/plain": [
       "0.6666666666666666"
      ]
     },
     "execution_count": 259,
     "metadata": {},
     "output_type": "execute_result"
    }
   ],
   "source": [
    "# Degree centrality of American Express\n",
    "deg_cent[9]"
   ]
  },
  {
   "cell_type": "markdown",
   "id": "b5cd1994-04e7-4b12-a666-3f28efa9cc5f",
   "metadata": {},
   "source": [
    "#### Betweenness Centrality"
   ]
  },
  {
   "cell_type": "markdown",
   "id": "e3c562f4-789e-474f-a0e5-61e18ee67252",
   "metadata": {},
   "source": [
    "Another important measure of a network is **betweenness centrality**. This can tell us the influence of a node by finding the bridges of a network. If there are multiple components of a network these nodes will be the bridge that connects them. If we are to look at our network graph we would assume that nodes 3 and 6 are the bridges of our network. We say this since they connect node 5 to the rest of the network. We would also think that node 3 has a higher betweenness centrality than node 6 since node 3 has more connections to the rest of the graph. \n",
    "\n",
    "To find the betweenness centrality we must understand the meaning of a **path**. In a social network a path is a connection between two nodes where no edge or node is repeated. For betweenness centrality we will be using the shortest path between nodes. For example, the shortest path from node 1 to node 5 is to go through node 6. This means node 6 is important in the flow of information between the two nodes. Another example is the flow of information from node 8 to node 5. The shortest path would be to go from node 8 to node 3 to node 5. The shortest path from node 9 to 5 takes the same path. We see here that node 3 is the bridge between both of these nodes so there is importance in how the information is passed. From these examples it appears that node 3 will have the highest betweenness centrality.\n",
    "\n",
    "Now that we understand betweenness centrality we can calculate it for our two actors, Samsung and American Express. We see from the calulations that the betweenness centrality of American Express is higher than Samsung. This is fairly easy to observe and understand since both nodes share the same exact connections except node 9, American Express, is connected to node 7, Johnson & Johnson, while Samsung is not. This means they are the bridge that connects the same other connections they share except American Express is a bridge for Johnson & Johnson while Samsung is not. \n",
    "\n",
    "As of now, American Express had a higher degree centrality and higher betweenness centrality than Samsung but remember Samsung had a higher density in its egocentric graph. All of these measures tell us different underlying mechanisms of the network and the importance of each measure depends on the situation we are in. "
   ]
  },
  {
   "cell_type": "code",
   "execution_count": 70,
   "id": "ad87e95d-b4d4-40a5-952c-8c353510ad7b",
   "metadata": {
    "tags": []
   },
   "outputs": [],
   "source": [
    "# variable that holds all betweenness centrality measures\n",
    "betweenness_cent = nx.betweenness_centrality(G)"
   ]
  },
  {
   "cell_type": "code",
   "execution_count": 75,
   "id": "96d833cd-3bf6-4746-ac26-9735db32f97b",
   "metadata": {
    "tags": []
   },
   "outputs": [
    {
     "data": {
      "text/plain": [
       "{0: 0.0162037037037037,\n",
       " 1: 0.13657407407407407,\n",
       " 2: 0.053240740740740734,\n",
       " 3: 0.21296296296296294,\n",
       " 4: 0.10648148148148148,\n",
       " 5: 0.0,\n",
       " 6: 0.060185185185185175,\n",
       " 7: 0.006944444444444444,\n",
       " 8: 0.050925925925925916,\n",
       " 9: 0.13425925925925924}"
      ]
     },
     "execution_count": 75,
     "metadata": {},
     "output_type": "execute_result"
    }
   ],
   "source": [
    "# view betweenness centrality\n",
    "betweenness_cent"
   ]
  },
  {
   "cell_type": "code",
   "execution_count": 72,
   "id": "980b7680-b927-4e35-b907-199e90c4d749",
   "metadata": {
    "tags": []
   },
   "outputs": [
    {
     "data": {
      "text/plain": [
       "0.050925925925925916"
      ]
     },
     "execution_count": 72,
     "metadata": {},
     "output_type": "execute_result"
    }
   ],
   "source": [
    "# Samsung\n",
    "betweenness_cent[8]"
   ]
  },
  {
   "cell_type": "code",
   "execution_count": 73,
   "id": "c96eacbd-449b-4914-a83c-b21c146a1028",
   "metadata": {
    "tags": []
   },
   "outputs": [
    {
     "data": {
      "text/plain": [
       "0.13425925925925924"
      ]
     },
     "execution_count": 73,
     "metadata": {},
     "output_type": "execute_result"
    }
   ],
   "source": [
    "# American Express\n",
    "betweenness_cent[9]"
   ]
  },
  {
   "cell_type": "markdown",
   "id": "b1cb81b1-a36f-4385-bb2c-0db29642ba43",
   "metadata": {},
   "source": [
    "Now we can graph the network with the node size being proportional to the betweenness centrality of our nodes. Since the betweenness centrality are such small numbers, we multiply their value by 10,000 to illustrate the importance. We see that node 3 is the largest node just as we expected. Node 5 has the smallest since it is not on the shortest path to any node. As mentioned earlier, node 9 is larger than node 8 since it is on the shortest path to node 7 while 8 is not, and they belong to the same number of shortest paths to other nodes. In terms of financial ties, this means we would like to have a financial tie with American Express over Samsung if we want to reach more companies. "
   ]
  },
  {
   "cell_type": "code",
   "execution_count": 94,
   "id": "2ee7fd0e-bce0-41ee-8243-97404ecb637e",
   "metadata": {
    "tags": []
   },
   "outputs": [
    {
     "data": {
      "image/png": "[encoded data removed]",
      "text/plain": [
       "<Figure size 640x480 with 1 Axes>"
      ]
     },
     "metadata": {},
     "output_type": "display_data"
    }
   ],
   "source": [
    "# graph of our network with node size proportional to betweenness centrality\n",
    "np.random.seed(42)\n",
    "nx.draw(G, node_color = 'r', edge_color = 'b', \n",
    "        node_size = [10000*value for (node, value) in betweenness_cent.items()],\n",
    "        labels = {node: node for node in G.nodes()})"
   ]
  },
  {
   "cell_type": "code",
   "execution_count": 84,
   "id": "b0a0abbc-7b30-477e-b646-5f8552104fff",
   "metadata": {
    "tags": []
   },
   "outputs": [
    {
     "name": "stdout",
     "output_type": "stream",
     "text": [
      "0 0.0162037037037037\n",
      "1 0.13657407407407407\n",
      "2 0.053240740740740734\n",
      "3 0.21296296296296294\n",
      "4 0.10648148148148148\n",
      "5 0.0\n",
      "6 0.060185185185185175\n",
      "7 0.006944444444444444\n",
      "8 0.050925925925925916\n",
      "9 0.13425925925925924\n"
     ]
    }
   ],
   "source": [
    "# unpacking the betweenness of nodes\n",
    "for value, node in betweenness_cent.items():\n",
    "    print(value, node)"
   ]
  },
  {
   "cell_type": "markdown",
   "id": "d77a284b-a915-4b21-873d-8f0993afdca8",
   "metadata": {},
   "source": [
    "#### Closeness Centrality"
   ]
  },
  {
   "cell_type": "markdown",
   "id": "b7da7c89-59e5-4e70-9da7-93701ad72ef1",
   "metadata": {},
   "source": [
    "The closeness centrality will tell us how close our node is to all other nodes in the network. It is the average length of the shortest path between the node and all other nodes. This measure will tell us which nodes will broadcast the information best. Since we only have a small and well connected graph the measures are similar for most nodes. "
   ]
  },
  {
   "cell_type": "code",
   "execution_count": 96,
   "id": "3306b97e-a33b-403b-9938-859198b0c923",
   "metadata": {
    "tags": []
   },
   "outputs": [],
   "source": [
    "# closeness centrality for all nodes\n",
    "closeness_cent = nx.closeness_centrality(G)"
   ]
  },
  {
   "cell_type": "markdown",
   "id": "2c7b9cd9-4ca0-4969-a2d5-07dfd4527e1b",
   "metadata": {},
   "source": [
    "As expected, many of our values are the same in this small network but in a big network this can tell us which nodes are closest to other nodes. These nodes are good candidates to spread information. We will continue our analysis of nodes 8 and 9 by examining their closeness centrality. We see by unpacking the dictionary closeness_cent that node 9 has a higher closeness centrality than node 8. This brings us back to our other measures where the similarity of both nodes, or perhaps the one difference between the nodes, makes this easy to understand. Since these nodes share all connections besides node 9 having a connection to node 7, their shortest paths are the same for all nodes besides node 7. To put it another way, each path from node 8 or 9 to any other node besides node 7 will be the same number.  \n",
    "\n",
    "Since many of these values are very similar there is no reason to visualize it in terms of closeness centrality. We can simply look at the results."
   ]
  },
  {
   "cell_type": "code",
   "execution_count": 97,
   "id": "280147b9-d0f6-4747-bb31-a11c75494028",
   "metadata": {
    "tags": []
   },
   "outputs": [
    {
     "name": "stdout",
     "output_type": "stream",
     "text": [
      "0 0.6\n",
      "1 0.6923076923076923\n",
      "2 0.6\n",
      "3 0.6923076923076923\n",
      "4 0.6923076923076923\n",
      "5 0.47368421052631576\n",
      "6 0.5625\n",
      "7 0.5294117647058824\n",
      "8 0.6923076923076923\n",
      "9 0.75\n"
     ]
    }
   ],
   "source": [
    "# unpacking the closeness of nodes\n",
    "for value, node in closeness_cent.items():\n",
    "    print(value, node)"
   ]
  },
  {
   "cell_type": "markdown",
   "id": "bcb8cc66-ed4d-423b-a8b5-e4bb2c0ecfd1",
   "metadata": {},
   "source": [
    "#### Interpretation of Findings"
   ]
  },
  {
   "cell_type": "markdown",
   "id": "b5dd025c-d9e2-4300-8229-3b3453aba058",
   "metadata": {},
   "source": [
    "Throughout the project we introduced the idea of a social network graph along with various metrics used to analyze the mechanisms within the graph. We focused on two nodes which were Samsung (8), and American Express (9). We saw that these two companies may have formed an aliance since they have very similar financial ties. The only difference in their financial ties is that American Express has a tie to Johnson & Johnson while Samsung does not. \n",
    "\n",
    "In terms of the density of both nodes, the egocentric graph of Samsung was more dense since it had one less node than the egocentric graph of American Express. Also, the extra node in American Express was not as closely tied as all other companies in the egocentric network. In terms of financial ties, if we are a company that is not tied to them directly, such as AAA, we may consider a connection with Samsung more beneficial to a connection with American Express if we are just concerned with effective transportation of information. However, since American Express and Samsung shared the same ties besides Johnson & Johnson, American Express had more connections, and a higher betweenness and closeness centrality score. Since both networks are dense but American Express has the extra connection, AAA may want to secure a connection with American Express to reach more companies. \n",
    "\n",
    "We can also look at the financial ties of both Samsung and American Express and wonder if they are paying too much money to have such similar ties. If the networking cost is high to hold these financial ties, they should try to diversify their ties. Since Samsung has no direct tie with Johnson & Johnson, the can connect with them through American Express whom they share a tie with. But, since they both share so many ties they are not gaining much by having a tie with eachother. \n",
    "\n",
    "We can also see that AAA only has two ties and both of these ties are not very important players in the network besides their betweenness centrality. Although their ties connect them to the rest of the network, the companies they are tied to do not have many connects so the information may travel slowly throughout the network. \n",
    "\n",
    "The financial ties in this example can be thought of as interlocking boards in the companies. According to Salgado et al. (2023), the ties between companies and interlocking boards can be tied to various coorporate measures such as performance and compensation. Although the ties are fabricated it can be a useful example. Let's say Samsung has an HR process that is very efficient and smooth while Johnson & Johnson are spending too much time and money on trying to correct their practices. If they have a tie to Samsung, they can streamline the HR processes that are working so well to minimize cost and labor in that field. We would also expect interlocking boards at Samsung and American Express because they share such common ties. The boards of both companies appear to want financial ties with similar companies. We can see how important it is to be a major player in this network when compensation and performance can also be tied. If a company has many ties the salaries of individuals can be established across many other companies leading to competitive wages. These ties can set the markey price for individuals. \n",
    " "
   ]
  },
  {
   "cell_type": "markdown",
   "id": "717d1aa4-5bfc-4980-be27-85d7fa9f5e45",
   "metadata": {},
   "source": [
    "#### References"
   ]
  },
  {
   "cell_type": "markdown",
   "id": "baecda3e-db03-42f8-905e-59bf131d5e1d",
   "metadata": {},
   "source": [
    "Salgado, C. P., Adami, V. S., De Souza Verschoore, J. R., & Costa, C. M. (2023). Board of Directors’ Interlocks: A social network analysis tutorial. https://www.redalyc.org/journal/840/84073372007/html/"
   ]
  },
  {
   "cell_type": "code",
   "execution_count": null,
   "id": "b9a77543-f89e-4211-aebe-06f61fae7ddd",
   "metadata": {},
   "outputs": [],
   "source": []
  }
 ],
 "metadata": {
  "kernelspec": {
   "display_name": "Python 3 (ipykernel)",
   "language": "python",
   "name": "python3"
  },
  "language_info": {
   "codemirror_mode": {
    "name": "ipython",
    "version": 3
   },
   "file_extension": ".py",
   "mimetype": "text/x-python",
   "name": "python",
   "nbconvert_exporter": "python",
   "pygments_lexer": "ipython3",
   "version": "3.10.9"
  }
 },
 "nbformat": 4,
 "nbformat_minor": 5
}
